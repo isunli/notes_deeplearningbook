{
 "cells": [
  {
   "cell_type": "markdown",
   "metadata": {},
   "source": [
    "## Chapter2 Linear Algeba"
   ]
  },
  {
   "cell_type": "markdown",
   "metadata": {},
   "source": [
    "## 2.1 Scalars, Vectors, Matrices and Tensors"
   ]
  },
  {
   "cell_type": "code",
   "execution_count": 1,
   "metadata": {
    "collapsed": true
   },
   "outputs": [],
   "source": [
    "import numpy as np"
   ]
  },
  {
   "cell_type": "markdown",
   "metadata": {
    "collapsed": true
   },
   "source": [
    "* __Scalars__: single number, $\\textit s$\n",
    "* __Vectors__: an array of numbers, $\\textbf x$,fisrt element: $\\textit x_1$. Point in space.\n",
    "* __Matrics__: 2-D array of numbers, each element is identified by two indicies instead of just one. $\\textbf A, \\textbf A_{i,:},\\textbf A_{:,i}, A_{m,n}$\n",
    "* __Tensors__: array with more than two axes. $A_{i,j,k}$"
   ]
  },
  {
   "cell_type": "markdown",
   "metadata": {},
   "source": [
    "Transpose: the transpose of a matrix is the mirror image of the matrix   across a diagonal line, caller the _main diagonal_.  \n",
    "The tanspose of a vector is a matrix with only one row.  \n",
    "Scalar is its own transpose"
   ]
  },
  {
   "cell_type": "code",
   "execution_count": 4,
   "metadata": {},
   "outputs": [
    {
     "name": "stdout",
     "output_type": "stream",
     "text": [
      "If matrix A is \n",
      "[[0 1 2]\n",
      " [3 4 5]]\n",
      "Transpose A is \n",
      "[[0 3]\n",
      " [1 4]\n",
      " [2 5]]\n",
      "Aij == (A^T)ji\n",
      "True\n"
     ]
    }
   ],
   "source": [
    "A = np.reshape(range(6),(2,3))\n",
    "print('If matrix A is ')\n",
    "print(A)\n",
    "print('Transpose A is ')\n",
    "AT=A.transpose()\n",
    "print(AT)\n",
    "\n",
    "print('Aij == (A^T)ji')\n",
    "print(A[1,2]==AT[2,1])"
   ]
  },
  {
   "cell_type": "markdown",
   "metadata": {
    "collapsed": true
   },
   "source": [
    "Add: add corresponding elements  \n",
    "D = a · B + c where Di,j =a·Bi,j +c  "
   ]
  },
  {
   "cell_type": "code",
   "execution_count": 14,
   "metadata": {},
   "outputs": [
    {
     "name": "stdout",
     "output_type": "stream",
     "text": [
      "[[0 1 2]\n",
      " [3 4 5]]\n",
      "+\n",
      "[[ 7  8  9]\n",
      " [10 11 12]]\n",
      "is\n",
      "[[ 7  9 11]\n",
      " [13 15 17]]\n"
     ]
    }
   ],
   "source": [
    "A = np.reshape(range(6),(2,3))\n",
    "B = np.reshape(range(7,13),(2,3))\n",
    "print(A)\n",
    "print('+')\n",
    "print(B)\n",
    "print('is')\n",
    "print(A+B)"
   ]
  },
  {
   "cell_type": "markdown",
   "metadata": {},
   "source": [
    "$C=A+b$  \n",
    "The vector $b$ is added to each row of the matrix. This is called __broadcastring__"
   ]
  },
  {
   "cell_type": "code",
   "execution_count": 13,
   "metadata": {},
   "outputs": [
    {
     "name": "stdout",
     "output_type": "stream",
     "text": [
      "[[0 1 2]\n",
      " [3 4 5]]\n",
      "+\n",
      "[ 1.  1.  1.]\n",
      "is\n",
      "[[ 1.  2.  3.]\n",
      " [ 4.  5.  6.]]\n"
     ]
    }
   ],
   "source": [
    "C = np.ones(3)\n",
    "print(A)\n",
    "print('+')\n",
    "print(C)\n",
    "print('is')\n",
    "print(A+C)"
   ]
  },
  {
   "cell_type": "markdown",
   "metadata": {},
   "source": [
    "## 2.2 Multiplying Matrices and Vectors\n",
    "The matrix product of matrices A and B is a third matrix C  \n",
    "A must have the same number of columns as B has rows.  \n",
    "If A is of shape m × n and B is of shape n × p, then C is of shape m × p.  \n",
    "$\\textbf {C = AB}$  \n",
    "$C_{i,j}=\\sum_{k}A_{i,k}B_{k,j}$ "
   ]
  },
  {
   "cell_type": "code",
   "execution_count": 22,
   "metadata": {},
   "outputs": [
    {
     "name": "stdout",
     "output_type": "stream",
     "text": [
      "[[0 1 2]\n",
      " [3 4 5]]\n",
      "multiply\n",
      "[[ 7  8]\n",
      " [ 9 10]\n",
      " [11 12]]\n",
      "is\n",
      "[[ 31  34]\n",
      " [112 124]]\n"
     ]
    }
   ],
   "source": [
    "A = np.reshape(range(6),(2,3))\n",
    "B = np.reshape(range(7,13),(3,2))\n",
    "print(A)\n",
    "print('multiply')\n",
    "print(B)\n",
    "print('is')\n",
    "print(np.matmul(A,B))"
   ]
  },
  {
   "cell_type": "markdown",
   "metadata": {},
   "source": [
    "__Element-wise product__ or __Hadamard product__, and is denoted as $\\textbf A\\odot \\textbf B$"
   ]
  },
  {
   "cell_type": "code",
   "execution_count": 23,
   "metadata": {},
   "outputs": [
    {
     "name": "stdout",
     "output_type": "stream",
     "text": [
      "[[0 1 2]\n",
      " [3 4 5]]\n",
      "hadamard multiply\n",
      "[[ 7  8  9]\n",
      " [10 11 12]]\n",
      "is\n",
      "[[ 0  8 18]\n",
      " [30 44 60]]\n"
     ]
    }
   ],
   "source": [
    "A = np.reshape(range(6),(2,3))\n",
    "B = np.reshape(range(7,13),(2,3))\n",
    "print(A)\n",
    "print('hadamard multiply')\n",
    "print(B)\n",
    "print('is')\n",
    "print(A*B)"
   ]
  },
  {
   "cell_type": "markdown",
   "metadata": {},
   "source": [
    "The __dot product__ between two vectors $x$ and $y$ of the same dimensionality is the matrix product $x^T y$."
   ]
  },
  {
   "cell_type": "code",
   "execution_count": 26,
   "metadata": {},
   "outputs": [
    {
     "name": "stdout",
     "output_type": "stream",
     "text": [
      "[0 1 2 3 4 5]\n",
      "dot\n",
      "[ 7  8  9 10 11 12]\n",
      "is\n",
      "160\n",
      "==\n",
      "160\n"
     ]
    }
   ],
   "source": [
    "A = np.array(range(6))\n",
    "B = np.array(range(7,13))\n",
    "print(A)\n",
    "print('dot')\n",
    "print(B)\n",
    "print('is')\n",
    "print(np.matmul(A.transpose(),B))\n",
    "print('==')\n",
    "print(np.dot(A,B))"
   ]
  },
  {
   "cell_type": "markdown",
   "metadata": {},
   "source": [
    "Distributive"
   ]
  },
  {
   "cell_type": "code",
   "execution_count": 28,
   "metadata": {},
   "outputs": [
    {
     "name": "stdout",
     "output_type": "stream",
     "text": [
      "[[ True  True]\n",
      " [ True  True]]\n"
     ]
    }
   ],
   "source": [
    "A = np.reshape(range(6),(2,3))\n",
    "B = np.reshape(range(7,13),(3,2))\n",
    "C = np.reshape(range(13,19),(3,2))\n",
    "print(np.matmul(A,B+C)==np.matmul(A,B)+np.matmul(A,C))"
   ]
  },
  {
   "cell_type": "markdown",
   "metadata": {},
   "source": [
    "Associative"
   ]
  },
  {
   "cell_type": "code",
   "execution_count": 31,
   "metadata": {},
   "outputs": [
    {
     "name": "stdout",
     "output_type": "stream",
     "text": [
      "[[ True  True  True]\n",
      " [ True  True  True]]\n"
     ]
    }
   ],
   "source": [
    "A = np.reshape(range(6),(2,3))\n",
    "B = np.reshape(range(7,13),(3,2))\n",
    "C = np.reshape(range(13,19),(2,3))\n",
    "print(np.matmul(A,np.matmul(B,C))==np.matmul(np.matmul(A,B),C))"
   ]
  },
  {
   "cell_type": "markdown",
   "metadata": {},
   "source": [
    "NO commutative"
   ]
  },
  {
   "cell_type": "code",
   "execution_count": 33,
   "metadata": {},
   "outputs": [
    {
     "name": "stdout",
     "output_type": "stream",
     "text": [
      "[[False False]\n",
      " [False False]]\n"
     ]
    }
   ],
   "source": [
    "A = np.reshape(range(4),(2,2))\n",
    "B = np.reshape(range(5,9),(2,2))\n",
    "print(np.matmul(A,B)==np.matmul(B,A))"
   ]
  },
  {
   "cell_type": "markdown",
   "metadata": {},
   "source": [
    "The dot product between two\n",
    "vectors is commutative:"
   ]
  },
  {
   "cell_type": "code",
   "execution_count": 34,
   "metadata": {},
   "outputs": [
    {
     "name": "stdout",
     "output_type": "stream",
     "text": [
      "True\n"
     ]
    }
   ],
   "source": [
    "A = np.array(range(4))\n",
    "B = np.array(range(5,9))\n",
    "print(np.dot(A,B)==np.dot(B,A))"
   ]
  },
  {
   "cell_type": "markdown",
   "metadata": {},
   "source": [
    "The transpose of a matrix product has a simple form:\n",
    "${(AB)^T=B^T A^T}$"
   ]
  },
  {
   "cell_type": "code",
   "execution_count": 38,
   "metadata": {},
   "outputs": [
    {
     "name": "stdout",
     "output_type": "stream",
     "text": [
      "[[ True  True]\n",
      " [ True  True]]\n"
     ]
    }
   ],
   "source": [
    "A = np.reshape(range(6),(2,3))\n",
    "B = np.reshape(range(7,13),(3,2))\n",
    "print(np.matmul(A,B).transpose()==np.matmul(B.transpose(),A.transpose()))"
   ]
  },
  {
   "cell_type": "markdown",
   "metadata": {},
   "source": [
    "A system of linear equation in linear algebra:  \n",
    "$$\n",
    "\\textbf {Ax=b}\\\\\n",
    "\\textbf A \\in \\mathbf{R}^{m*n}\\\\\n",
    "\\textbf x \\in \\mathbf{R}^{n}\\\\\n",
    "$$\n",
    "This is same as:  \n",
    "\n",
    "$$\n",
    "A_{1,1}x_1+A_{2,1}x_2+...+A_{1,n}x_n=b_1\\\\\n",
    "...\\\\\n",
    "A_{1,m}x_m+A_{2,m}x_m+...+A_{m,n}x_n=b_m\n",
    "$$  \n",
    "Matrix-vector product notation provides a more compact representation for equations of this form."
   ]
  },
  {
   "cell_type": "markdown",
   "metadata": {
    "collapsed": true
   },
   "source": [
    "## 2.3 Identity and Inverse Matrices\n",
    "* __identity matrix__: matrix that does not change any vector when we multiply that vector by that matrix. We denote the identity matrix that preserves n-dimensional vectors as $\\textit I_n \\in R^{n*n}$ and  \n",
    "$ \\forall \\textbf x \\in R^{n}, \\textit I_n x = x$  \n",
    "* __matrix inverse__: $\\textbf A^{-1} \\textbf A=\\textbf I_n$  \n",
    "So the equation above can solved by: $ \\textbf x =\\textbf A^{-1} \\textbf b$\n",
    "\n"
   ]
  },
  {
   "cell_type": "code",
   "execution_count": 7,
   "metadata": {},
   "outputs": [
    {
     "name": "stdout",
     "output_type": "stream",
     "text": [
      "[[ 1.  0.  0.  0.  0.]\n",
      " [ 0.  1.  0.  0.  0.]\n",
      " [ 0.  0.  1.  0.  0.]\n",
      " [ 0.  0.  0.  1.  0.]\n",
      " [ 0.  0.  0.  0.  1.]]\n",
      "[-4.5  5. ]\n",
      "OR\n",
      "[-4.5  5. ]\n"
     ]
    }
   ],
   "source": [
    "print(np.identity(5))\n",
    "A = np.reshape(range(4),(2,2))\n",
    "b = np.array([5,6])\n",
    "print(np.matmul(np.linalg.inv(A),b))\n",
    "print('OR')\n",
    "print(np.linalg.solve(A,b))"
   ]
  },
  {
   "cell_type": "markdown",
   "metadata": {},
   "source": [
    "When $A^{-1}$ exists, several different algorithms exist for finding it in closed form. In practice, $A^{-1}$ can be represented with only limited precision on a digital computer, algorithms that make use of the value $b$ can usually obtain more accurate estimates of $x$."
   ]
  },
  {
   "cell_type": "markdown",
   "metadata": {},
   "source": [
    "## 2.4 Linear Dependence and Span\n"
   ]
  },
  {
   "cell_type": "code",
   "execution_count": null,
   "metadata": {
    "collapsed": true
   },
   "outputs": [],
   "source": []
  }
 ],
 "metadata": {
  "kernelspec": {
   "display_name": "Python 3",
   "language": "python",
   "name": "python3"
  },
  "language_info": {
   "codemirror_mode": {
    "name": "ipython",
    "version": 3
   },
   "file_extension": ".py",
   "mimetype": "text/x-python",
   "name": "python",
   "nbconvert_exporter": "python",
   "pygments_lexer": "ipython3",
   "version": "3.6.2"
  }
 },
 "nbformat": 4,
 "nbformat_minor": 2
}
