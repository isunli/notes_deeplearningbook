{
 "cells": [
  {
   "cell_type": "markdown",
   "metadata": {},
   "source": [
    "## Chapter2 Image formation\n",
    "* 2.1 basic geometric primitives used throughout the book and the geometric transformations that project these 3D quantities into 2D image features.\n",
    "* 2.2 how lighting, surface properties, and camera _optics_ interact in order to produce the color values that fall onto the image sensor.\n",
    "* 2.3 how continuous color images are turned into discrete digital _samples_ inside the image sensor and how to avoid sampling deficiencies, such as aliasing.  \n",
    "\n",
    "\n",
    "### 2.1 Geometric primitives and transformations\n",
    "#### 2.1.1 Geometric primitives\n",
    "* __2D points__: \n",
    "1.pair of values $x=(x,y) \\in R^2$  \n",
    "2.homogeneous coordinates $\\tilde{\\bf x}=(\\tilde x,\\tilde y,\\tilde w) \\in \\ P^2$, where vectors that differ only by scale are considered to be equivalent.  \n",
    "$P^2=R^3-(0,0,0)$ is called the 2D _projective space_.  \n",
    "A homogeneous vector $\\tilde x$ can be converted back into a _inhomogeneous_ vectro $x$ by dividing through be the last element $\\tilde w$:  \n",
    "$$\n",
    "\\tilde{\\bf x}=(\\tilde x,\\tilde y,\\tilde w)=\\tilde w(x,y,1)=\\tilde w \\bar {\\bf x} \n",
    "$$  \n",
    "$\\bar {\\bf x}=(x,y,1)$ is the _augmented vector_.  \n",
    "$\\tilde w=0$ are called _ideal pointes_ at infinity and do not have an equivalent inhomogeneous representation.  \n",
    "\n",
    "* __2D lines__:  \n",
    "homogeneous coordinates: $\\tilde l=(a,b,c)$  \n",
    "The corresponding _line equation_ is: \n",
    "$$\n",
    "\\bar{x} \\tilde{l}=ax+by+c=0\n",
    "$$  \n",
    "Normalized line equation: $l=(\\hat n_x,\\hat n_y,d)=(\\hat{\\bf n},d) \\ with \\ ||\\hat{\\bf n}||=1$ In this case, $\\hat n$ is the _normal vector_ perpendicular to the line and $d$ is its distance to the origin.  \n",
    "We can also express $\\hat n$ as a function of rotation angle $\\theta, \\hat n=(\\hat n_x,\\hat n_y)=(cos \\theta,sin \\theta)$. The combination $(\\theta,d)$ is also known as _polar coordinates_.  \n",
    "![](.\\images\\21.1.png)  \n",
    "The intersection of two lines: $\\tilde x = \\tilde l_1 \\times \\tilde l_2$  \n",
    "The line joining two points can be written as $\\tilde l=\\tilde x_1 \\times \\tilde x_2$"
   ]
  },
  {
   "cell_type": "markdown",
   "metadata": {},
   "source": [
    "* __2D conics__: $\\tilde x^T Q \\tilde x=0$  \n",
    "* __3D points__: $(x,y,z) \\in R^3$ or $\\tilde x = (\\tilde x,\\tilde y,\\tilde z,\\tilde w) \\in P^3$. $\\bar x = (x,y,z,1)$ with $\\tilde x=\\tilde w \\bar x$\n",
    "* __3D planes__: $\\tilde m=(a,b,c,d)$ with a corresponding plane equation:  \n",
    "$$\n",
    "\\bar x \\tilde m = ax+by+cz+d=0\n",
    "$$  \n",
    "We can also normalize the plane equation as $(\\hat n,d)$ with $||\\hat n||=1$  \n",
    "We can express $\\hat n$ as a function of two angles.  \n",
    "* __3D lines__: use two points on the line $(p,q)$. Any other point on the line can be expressed as a linear combination of these tow points.  \n",
    "If we use homogeneous coordinates, we can write the line as: $\\tilde r=\\mu \\tilde p + \\lambda \\tilde q$.\n",
    "_Plucker coordinates_: the six independent non-zero entries in the 4x4 skew symmetric matrix: $L=\\tilde p \\tilde q^T - \\tilde q \\tilde p^T$, where $\\tilde p$ and $\\tilde q$ are _any_ two points on the line.\n",
    "* __3D quadrics__: $\\bar xQ\\bar x=0$"
   ]
  },
  {
   "cell_type": "markdown",
   "metadata": {
    "collapsed": true
   },
   "source": [
    "### 2.1.2 2D transformations\n",
    "![](./images/21.2.png)  \n",
    "* __Translation__:\n",
    "2D translations can be written as $x'=x+t$ or $x'=[I\\ t]\\bar x$"
   ]
  },
  {
   "cell_type": "code",
   "execution_count": 2,
   "metadata": {},
   "outputs": [
    {
     "name": "stdout",
     "output_type": "stream",
     "text": [
      "point (3,6) moved to (7,3)\n",
      "[7 3 1]\n"
     ]
    }
   ],
   "source": [
    "import numpy as np\n",
    "tm = [[1,0,4],\n",
    "      [0,1,-3],\n",
    "      [0,0,1]]\n",
    "tm = np.array(tm)\n",
    "points = np.array([3,6,1])\n",
    "print(\"point (3,6) moved to (7,3)\")\n",
    "print(tm.dot(points))"
   ]
  },
  {
   "cell_type": "markdown",
   "metadata": {},
   "source": [
    "![](./images/21.3.png)"
   ]
  },
  {
   "cell_type": "markdown",
   "metadata": {},
   "source": [
    "### 2.1.3 3D transformations\n",
    "* Translation\n",
    "* Rotation + translation\n",
    "* Scaled rotation\n",
    "* Affine\n",
    "* Porjective\n"
   ]
  },
  {
   "cell_type": "markdown",
   "metadata": {},
   "source": [
    "## 2.1.4 3D rotations"
   ]
  },
  {
   "cell_type": "markdown",
   "metadata": {},
   "source": [
    "The parameterization of the 3D rotation matrix R is not as straightforward but several possibilities exist.  \n",
    "* Euler anagles  \n",
    "A rotation matrix can be formed as the product of three rotations around three cardinal axes --> not good  \n",
    "\n",
    "* Axis/angle (exponential twist)  \n",
    "A rotation can be represented by a rotation axis $\\hat n$ and an angle $\\theta$, or equivalently by a 3D vector $\\omega = \\theta \\hat n$  \n",
    "\n",
    "* Unit quaternions  \n",
    "A unit quaternion is a unit length 4-vector whose components can be written as q = (qx; qy; qz; qw) or q = (x; y; z;w) for short."
   ]
  },
  {
   "cell_type": "markdown",
   "metadata": {},
   "source": [
    "## 2.1.5 3D to 2D projections"
   ]
  },
  {
   "cell_type": "markdown",
   "metadata": {},
   "source": [
    "![Video](https://www.youtube.com/watch?v=DD70ZIDjL7g)"
   ]
  },
  {
   "cell_type": "code",
   "execution_count": null,
   "metadata": {
    "collapsed": true
   },
   "outputs": [],
   "source": []
  }
 ],
 "metadata": {
  "kernelspec": {
   "display_name": "Python 3",
   "language": "python",
   "name": "python3"
  },
  "language_info": {
   "codemirror_mode": {
    "name": "ipython",
    "version": 3
   },
   "file_extension": ".py",
   "mimetype": "text/x-python",
   "name": "python",
   "nbconvert_exporter": "python",
   "pygments_lexer": "ipython3",
   "version": "3.6.2"
  }
 },
 "nbformat": 4,
 "nbformat_minor": 2
}
