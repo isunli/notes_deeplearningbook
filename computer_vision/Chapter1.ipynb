{
 "cells": [
  {
   "cell_type": "markdown",
   "metadata": {},
   "source": [
    "# Computer Vision\n",
    "## COSC-579\n",
    "## Chapter 1 Introduction\n",
    "\n",
    "### 1.1 What is computer vision?"
   ]
  },
  {
   "cell_type": "markdown",
   "metadata": {},
   "source": [
    "Why is vision so difficult? Vision is an _inverse problem_, in which we seek to recover some unknows given insufficient information to fully specify the solution.  \n",
    "The _forward_ models: developed in physics and in computer graphics, and finally projected onto a flat (or curved) image plane.  \n",
    "In computer vision: we try to describe the world that we see in one or more images and to reconstruct its properties, such as shape, illumination, and color distributions.  \n",
    "Industry Applications:  \n",
    "* Optical character recognition (OCR)  \n",
    "* Machine inspection: looking for defects or inspection for quality. \n",
    "* Retail: authomated checkout. \n",
    "* 3D model building (photogrammetry)  \n",
    "* Medical imaging  \n",
    "* Automotive safety  \n",
    "* Match move  \n",
    "* Motion capture (mocap)  \n",
    "* Surveillance  \n",
    "* Fingerprint recognition and biometrics\n",
    "\n",
    "\n",
    "Consumer-level Applications:  \n",
    "* Stitching (Panorama photos)  \n",
    "* Exposure bracketing (HDR)  \n",
    "* Morphing: turning a picture of one of your firends into another  \n",
    "* 3D modeling: converting one more snapshots into a 3D model  \n",
    "* Video match move and stabilization  \n",
    "* Photo-based walkthroughs (Google street view)  \n",
    "* Face detection  \n",
    "* Visual authentication \n"
   ]
  },
  {
   "cell_type": "markdown",
   "metadata": {},
   "source": [
    "## 1.2 A brief history\n",
    "![](./images/12.1.png)"
   ]
  },
  {
   "cell_type": "markdown",
   "metadata": {},
   "source": [
    "__1970s__: When computer vision first started out in the early 1970s, it was viewed as the visual perception component of an ambitious agenda to mimic human intelligence and to endow robots with intelligent behavior.  \n",
    "__1980s__: In the 1980s, a lot of attention was focused on more sophisticated mathematical techniques for performing quantitative image and scene analysis.  \n",
    "__1990s__: While a lot of the previously mentioned topics continued to be explored, a few of them became significantly more active.  \n",
    "__2000s__: This past decade has continued to see a deepening interplay between the vision and graphics fields.   \n"
   ]
  },
  {
   "cell_type": "markdown",
   "metadata": {},
   "source": [
    "## 1.3 Book overview\n",
    "![](./images/13.1.png)\n"
   ]
  },
  {
   "cell_type": "markdown",
   "metadata": {},
   "source": [
    "from top to bottom: incressing levels of modeling and abstraction, as well as techniques that build on previously developed algorithms."
   ]
  },
  {
   "cell_type": "markdown",
   "metadata": {},
   "source": [
    "\n",
    "* Chapter2: review of the image formation processes that create the images that we see and capture. \n",
    "2.1: Geometric image formation: points, lines, and planes, and how these are mapped onto images using _projective geometry_ and other models.  \n",
    "2.2: Photometric image formation: _radiometry_, how light interacts with surfaces in the world, and optics.  \n",
    "2.3: sensors work.   \n",
    "* Chapter 3 covers image processing, which is needed in almost all computer vision appli- cations.\n",
    "* In Chapter 4, we cover feature detection and matching.  \n",
    "* Chapter 5 covers region segmentation techniques, including active contour detection and tracking  \n",
    "* In Chapter 6, we cover geometric alignment and camera calibration.  \n",
    "* Chapter 7 covers the topic of structure from motion, which involves the simultaneous recovery of 3D camera motion and 3D scene structure from a collection of tracked 2D features. \n",
    "* In Chapter 8, we go back to a topic that deals directly with image intensities (as op- posed to feature tracks), namely dense intensity-based motion estimation (optical flow).  \n",
    "* Chapter 9 is devoted to image stitching, i.e., the construction of large panoramas and com- posites.  \n",
    "* Chapter 10 presents additional examples of computational photography, which is the pro- cess of creating new images from one or more input photographs, often based on the careful modeling and calibration of the image formation process (Section 10.1).  \n",
    "* In Chapter 11, we turn to the issue of stereo correspondence, which can be thought of as a special case of motion estimation where the camera positions are already known (Sec- tion 11.1). \n",
    "\n",
    "* Chapter 12 covers additional 3D shape and appearance modeling techniques. \n",
    "* In Chapter 13, we discuss the large number of image-based rendering techniques that have been developed in the last two decades, In Chapter 13, we also discuss video-based rendering.\n",
    "* Chapter 14 describes different approaches to recognition.  \n"
   ]
  },
  {
   "cell_type": "markdown",
   "metadata": {},
   "source": [
    "## 1.4 Sample syllabus \n",
    "![](./images/13.2.png)"
   ]
  },
  {
   "cell_type": "markdown",
   "metadata": {},
   "source": [
    "## 1.5 A note on notation \n",
    "* vectors: ___v___  \n",
    "* matrices: ___M___\n",
    "* scalars _(T,s)_\n",
    "* ___x___ = (_x,y_) is a column vector\n",
    "* ___R___: rotations \n",
    "* ___K___: calibration matrics\n",
    "* ___I___: identity matrix\n",
    "* $\\tilde{\\textbf x}=(\\tilde{x},\\tilde{y},\\tilde{w})=\\tilde{w}(\\tilde{x},\\tilde{y},1)=\\tilde{w} \\bar{\\textbf x}$: homogeneous coordinates.  \n",
    "* cross product operator: $[]_x$"
   ]
  },
  {
   "cell_type": "markdown",
   "metadata": {},
   "source": [
    "## 1.6 Additional reading"
   ]
  }
 ],
 "metadata": {
  "kernelspec": {
   "display_name": "Python 3",
   "language": "python",
   "name": "python3"
  },
  "language_info": {
   "codemirror_mode": {
    "name": "ipython",
    "version": 3
   },
   "file_extension": ".py",
   "mimetype": "text/x-python",
   "name": "python",
   "nbconvert_exporter": "python",
   "pygments_lexer": "ipython3",
   "version": "3.6.2"
  }
 },
 "nbformat": 4,
 "nbformat_minor": 2
}
