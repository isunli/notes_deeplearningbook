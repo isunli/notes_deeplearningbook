{
 "cells": [
  {
   "cell_type": "markdown",
   "metadata": {},
   "source": [
    "## Chapter2 Image formation\n",
    "* 2.1 basic geometric primitives used throughout the book and the geometric transformations that project these 3D quantities into 2D image features.\n",
    "* 2.2 how lighting, surface properties, and camera _optics_ interact in order to produce the color values that fall onto the image sensor.\n",
    "* 2.3 how continuous color images are turned into discrete digital _samples_ inside the image sensor and how to avoid sampling deficiencies, such as aliasing.  \n",
    "### 2.1 Geometric primitives and transformations\n",
    "#### 2.1.1 Geometric primitives\n",
    "* __2D points__: \n",
    "\n",
    "1.pair of values $x=(x,y) \\in R^2$  \n",
    "2.homogeneous coordinates $\\tilde{\\bf x}=(\\tilde x,\\tilde y,\\tilde w) \\ in \\ P^2$, where vectors that differ only by scale are considered to be equivalent.  \n",
    "$P^2=R^3-(0,0,0)$ is called the 2D _projective space_."
   ]
  },
  {
   "cell_type": "code",
   "execution_count": 1,
   "metadata": {},
   "outputs": [
    {
     "name": "stdout",
     "output_type": "stream",
     "text": [
      "1\n"
     ]
    }
   ],
   "source": []
  },
  {
   "cell_type": "code",
   "execution_count": null,
   "metadata": {
    "collapsed": true
   },
   "outputs": [],
   "source": []
  }
 ],
 "metadata": {
  "kernelspec": {
   "display_name": "Python 3",
   "language": "python",
   "name": "python3"
  },
  "language_info": {
   "codemirror_mode": {
    "name": "ipython",
    "version": 3
   },
   "file_extension": ".py",
   "mimetype": "text/x-python",
   "name": "python",
   "nbconvert_exporter": "python",
   "pygments_lexer": "ipython3",
   "version": "3.6.2"
  }
 },
 "nbformat": 4,
 "nbformat_minor": 2
}
